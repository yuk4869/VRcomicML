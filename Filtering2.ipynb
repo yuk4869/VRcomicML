{
 "cells": [
  {
   "cell_type": "code",
   "execution_count": 1,
   "metadata": {},
   "outputs": [],
   "source": [
    "import os\n",
    "import numpy as np\n",
    "import pandas as pd"
   ]
  },
  {
   "cell_type": "code",
   "execution_count": 2,
   "metadata": {},
   "outputs": [],
   "source": [
    "df = pd.read_csv(os.path.join(os.getcwd(), \"data\", \"filtered\", \"Eye22.csv\"))"
   ]
  },
  {
   "cell_type": "code",
   "execution_count": 5,
   "metadata": {},
   "outputs": [
    {
     "data": {
      "text/html": [
       "<div>\n",
       "<style scoped>\n",
       "    .dataframe tbody tr th:only-of-type {\n",
       "        vertical-align: middle;\n",
       "    }\n",
       "\n",
       "    .dataframe tbody tr th {\n",
       "        vertical-align: top;\n",
       "    }\n",
       "\n",
       "    .dataframe thead th {\n",
       "        text-align: right;\n",
       "    }\n",
       "</style>\n",
       "<table border=\"1\" class=\"dataframe\">\n",
       "  <thead>\n",
       "    <tr style=\"text-align: right;\">\n",
       "      <th></th>\n",
       "      <th>TimeStamp</th>\n",
       "      <th>Page</th>\n",
       "    </tr>\n",
       "  </thead>\n",
       "  <tbody>\n",
       "    <tr>\n",
       "      <th>0</th>\n",
       "      <td>2.027903</td>\n",
       "      <td>1</td>\n",
       "    </tr>\n",
       "    <tr>\n",
       "      <th>1</th>\n",
       "      <td>2.088315</td>\n",
       "      <td>1</td>\n",
       "    </tr>\n",
       "    <tr>\n",
       "      <th>2</th>\n",
       "      <td>2.772605</td>\n",
       "      <td>1</td>\n",
       "    </tr>\n",
       "    <tr>\n",
       "      <th>3</th>\n",
       "      <td>2.778582</td>\n",
       "      <td>1</td>\n",
       "    </tr>\n",
       "    <tr>\n",
       "      <th>4</th>\n",
       "      <td>2.784600</td>\n",
       "      <td>1</td>\n",
       "    </tr>\n",
       "    <tr>\n",
       "      <th>...</th>\n",
       "      <td>...</td>\n",
       "      <td>...</td>\n",
       "    </tr>\n",
       "    <tr>\n",
       "      <th>10375</th>\n",
       "      <td>117.767100</td>\n",
       "      <td>89</td>\n",
       "    </tr>\n",
       "    <tr>\n",
       "      <th>10376</th>\n",
       "      <td>117.773100</td>\n",
       "      <td>89</td>\n",
       "    </tr>\n",
       "    <tr>\n",
       "      <th>10377</th>\n",
       "      <td>117.779100</td>\n",
       "      <td>89</td>\n",
       "    </tr>\n",
       "    <tr>\n",
       "      <th>10378</th>\n",
       "      <td>117.785100</td>\n",
       "      <td>89</td>\n",
       "    </tr>\n",
       "    <tr>\n",
       "      <th>10379</th>\n",
       "      <td>117.791000</td>\n",
       "      <td>89</td>\n",
       "    </tr>\n",
       "  </tbody>\n",
       "</table>\n",
       "<p>10380 rows × 2 columns</p>\n",
       "</div>"
      ],
      "text/plain": [
       "        TimeStamp  Page\n",
       "0        2.027903     1\n",
       "1        2.088315     1\n",
       "2        2.772605     1\n",
       "3        2.778582     1\n",
       "4        2.784600     1\n",
       "...           ...   ...\n",
       "10375  117.767100    89\n",
       "10376  117.773100    89\n",
       "10377  117.779100    89\n",
       "10378  117.785100    89\n",
       "10379  117.791000    89\n",
       "\n",
       "[10380 rows x 2 columns]"
      ]
     },
     "execution_count": 5,
     "metadata": {},
     "output_type": "execute_result"
    }
   ],
   "source": [
    "df.loc[:, [\"TimeStamp\", \"Page\",\"\"]]"
   ]
  },
  {
   "cell_type": "code",
   "execution_count": 4,
   "metadata": {},
   "outputs": [
    {
     "data": {
      "text/plain": [
       "Index(['TimeStamp', 'IsAnnotation', 'Page', 'Panel', 'LeftDiameter',\n",
       "       'LeftDisplaceNormalizedX', 'LeftDisplaceNormalizedY', 'LeftOriginPosX',\n",
       "       'LeftOriginPosY', 'LeftOriginPosZ', 'LeftOpenness',\n",
       "       'LeftGazeDirectionX', 'LeftGazeDirectionY', 'LeftGazeDirectionZ',\n",
       "       'RightDiameter', 'RightDisplaceNormalizedX', 'RightDisplaceNormalizedY',\n",
       "       'RightOriginPosX', 'RightOriginPosY', 'RightOriginPosZ',\n",
       "       'RightOpenness', 'RightGazeDirectionX', 'RightGazeDirectionY',\n",
       "       'RightGazeDirectionZ', 'HeadPosX', 'HeadPosY', 'HeadPosZ',\n",
       "       'HeadRotationX', 'HeadRotationY', 'HeadRotationZ', 'HeadRotationW',\n",
       "       'GazePointX', 'GazePointY', 'GazePointZ', 'GazePointWorldX',\n",
       "       'GazePointWorldY', 'GazePointWorldZ', 'IntersectionPosX',\n",
       "       'IntersectionPosY', 'IntersectionPosZ', 'IntersectionDist',\n",
       "       'GazePointDist', 'Saccade', 'Fixation', 'Jaw_Right', 'Jaw_Left',\n",
       "       'Jaw_Forward', 'Jaw_Open', 'Mouth_Ape_Shape', 'Mouth_Upper_Right',\n",
       "       'Mouth_Upper_Left', 'Mouth_Lower_Right', 'Mouth_Lower_Left',\n",
       "       'Mouth_Upper_Overturn', 'Mouth_Lower_Overturn', 'Mouth_Pout',\n",
       "       'Mouth_Smile_Right', 'Mouth_Smile_Left', 'Mouth_Sad_Right',\n",
       "       'Mouth_Sad_Left', 'Cheek_Puff_Right', 'Cheek_Puff_Left', 'Cheek_Suck',\n",
       "       'Mouth_Upper_UpRight', 'Mouth_Upper_UpLeft', 'Mouth_Lower_DownRight',\n",
       "       'Mouth_Lower_DownLeft', 'Mouth_Upper_Inside', 'Mouth_Lower_Inside',\n",
       "       'Mouth_Lower_Overlay', 'Tongue_LongStep1', 'Tongue_LongStep2',\n",
       "       'Tongue_Down', 'BothAverage', '3Mean', '3Med', 'D_vel', 'Blink',\n",
       "       'IsBlink'],\n",
       "      dtype='object')"
      ]
     },
     "execution_count": 4,
     "metadata": {},
     "output_type": "execute_result"
    }
   ],
   "source": [
    "df.columns"
   ]
  },
  {
   "cell_type": "code",
   "execution_count": 5,
   "metadata": {},
   "outputs": [
    {
     "data": {
      "text/plain": [
       "<bound method DataFrame.info of         TimeStamp  IsAnnotation  Page  Panel  LeftDiameter  \\\n",
       "0        2.027903         False     1     -1            -1   \n",
       "1        2.088315         False     1     -1            -1   \n",
       "2        2.772605         False     1     -1            -1   \n",
       "3        2.778582         False     1     -1            -1   \n",
       "4        2.784600         False     1     -1            -1   \n",
       "...           ...           ...   ...    ...           ...   \n",
       "10375  117.767100         False    89     -1            -1   \n",
       "10376  117.773100         False    89     -1            -1   \n",
       "10377  117.779100         False    89     -1            -1   \n",
       "10378  117.785100         False    89     -1            -1   \n",
       "10379  117.791000         False    89     -1            -1   \n",
       "\n",
       "       LeftDisplaceNormalizedX  LeftDisplaceNormalizedY  LeftOriginPosX  \\\n",
       "0                           -1                       -1        32.82259   \n",
       "1                           -1                       -1        32.82259   \n",
       "2                           -1                       -1        32.82259   \n",
       "3                           -1                       -1        32.82259   \n",
       "4                           -1                       -1        32.82259   \n",
       "...                        ...                      ...             ...   \n",
       "10375                       -1                       -1        32.82259   \n",
       "10376                       -1                       -1        32.82259   \n",
       "10377                       -1                       -1        32.82259   \n",
       "10378                       -1                       -1        32.82259   \n",
       "10379                       -1                       -1        32.82259   \n",
       "\n",
       "       LeftOriginPosY  LeftOriginPosZ  ...  Mouth_Lower_Overlay  \\\n",
       "0            2.130508       -27.38054  ...                    0   \n",
       "1            2.130508       -27.38054  ...                    0   \n",
       "2            2.130508       -27.38054  ...                    0   \n",
       "3            2.130508       -27.38054  ...                    0   \n",
       "4            2.130508       -27.38054  ...                    0   \n",
       "...               ...             ...  ...                  ...   \n",
       "10375        2.130508       -27.38054  ...                    0   \n",
       "10376        2.130508       -27.38054  ...                    0   \n",
       "10377        2.130508       -27.38054  ...                    0   \n",
       "10378        2.130508       -27.38054  ...                    0   \n",
       "10379        2.130508       -27.38054  ...                    0   \n",
       "\n",
       "       Tongue_LongStep1  Tongue_LongStep2   Tongue_Down  BothAverage  3Mean  \\\n",
       "0                   0.0          0.000000  0.000000e+00         -1.0   -1.0   \n",
       "1                   0.0          0.000000  0.000000e+00         -1.0   -1.0   \n",
       "2                   0.0          0.000000  0.000000e+00         -1.0   -1.0   \n",
       "3                   0.0          0.000000  0.000000e+00         -1.0   -1.0   \n",
       "4                   0.0          0.000000  0.000000e+00         -1.0   -1.0   \n",
       "...                 ...               ...           ...          ...    ...   \n",
       "10375               1.0          0.368559  1.401298e-45         -1.0   -1.0   \n",
       "10376               1.0          0.368559  1.401298e-45         -1.0   -1.0   \n",
       "10377               1.0          0.375408  1.401298e-45         -1.0   -1.0   \n",
       "10378               1.0          0.375408  1.401298e-45         -1.0   -1.0   \n",
       "10379               1.0          0.404173  1.401298e-45         -1.0   -1.0   \n",
       "\n",
       "       3Med  D_vel  Blink  IsBlink  \n",
       "0      -1.0    NaN   True     True  \n",
       "1      -1.0    0.0   True     True  \n",
       "2      -1.0    0.0   True     True  \n",
       "3      -1.0    0.0   True     True  \n",
       "4      -1.0    0.0   True     True  \n",
       "...     ...    ...    ...      ...  \n",
       "10375  -1.0    0.0   True     True  \n",
       "10376  -1.0    0.0   True     True  \n",
       "10377  -1.0    0.0   True     True  \n",
       "10378  -1.0    0.0   True     True  \n",
       "10379  -1.0    0.0   True     True  \n",
       "\n",
       "[10380 rows x 79 columns]>"
      ]
     },
     "execution_count": 5,
     "metadata": {},
     "output_type": "execute_result"
    }
   ],
   "source": [
    "df.info"
   ]
  },
  {
   "cell_type": "code",
   "execution_count": 6,
   "metadata": {},
   "outputs": [
    {
     "data": {
      "text/plain": [
       "0.000000    4982\n",
       "0.622195       5\n",
       "0.627442       5\n",
       "0.733104       4\n",
       "0.746276       4\n",
       "            ... \n",
       "0.708964       1\n",
       "0.712272       1\n",
       "0.720714       1\n",
       "0.729514       1\n",
       "0.669922       1\n",
       "Name: Jaw_Open, Length: 3218, dtype: int64"
      ]
     },
     "execution_count": 6,
     "metadata": {},
     "output_type": "execute_result"
    }
   ],
   "source": [
    "df[\"Jaw_Open\"].value_counts()"
   ]
  },
  {
   "cell_type": "code",
   "execution_count": 7,
   "metadata": {},
   "outputs": [
    {
     "data": {
      "text/plain": [
       "<AxesSubplot:>"
      ]
     },
     "execution_count": 7,
     "metadata": {},
     "output_type": "execute_result"
    },
    {
     "data": {
      "image/png": "[encoded data removed]",
      "text/plain": [
       "<Figure size 640x480 with 1 Axes>"
      ]
     },
     "metadata": {},
     "output_type": "display_data"
    }
   ],
   "source": [
    "pd.cut(df[\"Jaw_Open\"], bins=[0, 0.25, 0.5, 0.75, 1.0]).value_counts().plot(kind=\"bar\")"
   ]
  },
  {
   "cell_type": "code",
   "execution_count": 22,
   "metadata": {},
   "outputs": [
    {
     "data": {
      "text/plain": [
       "<AxesSubplot:>"
      ]
     },
     "execution_count": 22,
     "metadata": {},
     "output_type": "execute_result"
    },
    {
     "data": {
      "image/png": "[encoded data removed]",
      "text/plain": [
       "<Figure size 640x480 with 1 Axes>"
      ]
     },
     "metadata": {},
     "output_type": "display_data"
    }
   ],
   "source": [
    "df['Mouth_Smile_Left'].plot()"
   ]
  },
  {
   "cell_type": "code",
   "execution_count": 9,
   "metadata": {},
   "outputs": [
    {
     "data": {
      "text/plain": [
       "0       -1.0\n",
       "1       -1.0\n",
       "2       -1.0\n",
       "3       -1.0\n",
       "4       -1.0\n",
       "        ... \n",
       "10375   -1.0\n",
       "10376   -1.0\n",
       "10377   -1.0\n",
       "10378   -1.0\n",
       "10379   -1.0\n",
       "Name: 3Mean, Length: 10380, dtype: float64"
      ]
     },
     "execution_count": 9,
     "metadata": {},
     "output_type": "execute_result"
    }
   ],
   "source": [
    "df[\"3Mean\"]"
   ]
  },
  {
   "cell_type": "code",
   "execution_count": 10,
   "metadata": {},
   "outputs": [],
   "source": [
    "df['BothAverage'] = (df['LeftDiameter'] + df['RightDiameter']) /2"
   ]
  },
  {
   "cell_type": "code",
   "execution_count": 11,
   "metadata": {},
   "outputs": [
    {
     "data": {
      "text/plain": [
       "0       -1.0\n",
       "1       -1.0\n",
       "2       -1.0\n",
       "3       -1.0\n",
       "4       -1.0\n",
       "        ... \n",
       "10375   -1.0\n",
       "10376   -1.0\n",
       "10377   -1.0\n",
       "10378   -1.0\n",
       "10379   -1.0\n",
       "Name: BothAverage, Length: 10380, dtype: float64"
      ]
     },
     "execution_count": 11,
     "metadata": {},
     "output_type": "execute_result"
    }
   ],
   "source": [
    "df[\"BothAverage\"]"
   ]
  },
  {
   "cell_type": "code",
   "execution_count": 12,
   "metadata": {},
   "outputs": [],
   "source": [
    "df['3Mean'] = df['BothAverage'].rolling(3,min_periods = 1, center = True).mean()\n",
    "# pd.rolling_mean(df[\"BothAverage\"], 3)"
   ]
  },
  {
   "cell_type": "code",
   "execution_count": 13,
   "metadata": {},
   "outputs": [
    {
     "data": {
      "text/plain": [
       "array([1., 2., 3., 4., 5., 6., 7., 8.])"
      ]
     },
     "execution_count": 13,
     "metadata": {},
     "output_type": "execute_result"
    }
   ],
   "source": [
    "x = np.arange(10)\n",
    "np.lib.stride_tricks.sliding_window_view(x, 3).mean(axis=1)"
   ]
  },
  {
   "cell_type": "code",
   "execution_count": 14,
   "metadata": {},
   "outputs": [],
   "source": [
    "import numpy\n",
    "def moving_average(x, w):\n",
    "    import numpy\n",
    "    return numpy.lib.stride_tricks.sliding_window_view(x, w).mean(axis=1)"
   ]
  },
  {
   "cell_type": "code",
   "execution_count": 18,
   "metadata": {},
   "outputs": [],
   "source": [
    "from pandarallel import pandarallel\n",
    "import time\n",
    "pandarallel.initialize(progress_bar=True, verbose=1)"
   ]
  },
  {
   "cell_type": "code",
   "execution_count": 19,
   "metadata": {},
   "outputs": [
    {
     "data": {
      "application/vnd.jupyter.widget-view+json": {
       "model_id": "c020166e74f24a7fbc2db46eefeaa4df",
       "version_major": 2,
       "version_minor": 0
      },
      "text/plain": [
       "VBox(children=(HBox(children=(IntProgress(value=0, description='0.00%', max=10380), Label(value='0 / 10380')))…"
      ]
     },
     "metadata": {},
     "output_type": "display_data"
    },
    {
     "name": "stdout",
     "output_type": "stream",
     "text": [
      "CPU times: total: 78.1 ms\n",
      "Wall time: 1.13 s\n"
     ]
    }
   ],
   "source": [
    "%time _ = df.loc[:, [\"BothAverage\", \"GazePointX\"]].parallel_apply(moving_average, args=(3,))"
   ]
  },
  {
   "cell_type": "code",
   "execution_count": 20,
   "metadata": {},
   "outputs": [
    {
     "data": {
      "application/vnd.jupyter.widget-view+json": {
       "model_id": "dedf62e5e90b45b3bdf57d9ab5c06879",
       "version_major": 2,
       "version_minor": 0
      },
      "text/plain": [
       "VBox(children=(HBox(children=(IntProgress(value=0, description='0.00%', max=16666667), Label(value='0 / 166666…"
      ]
     },
     "metadata": {},
     "output_type": "display_data"
    },
    {
     "name": "stdout",
     "output_type": "stream",
     "text": [
      "CPU times: total: 1.53 s\n",
      "Wall time: 23.5 s\n"
     ]
    }
   ],
   "source": [
    "def nabeatsu(x):\n",
    "    return True if (x % 3 == 0) or ('3' in str(x)) else False\n",
    "x = pd.Series(np.arange(1e8))\n",
    "%time _ = x.parallel_apply(nabeatsu)"
   ]
  },
  {
   "cell_type": "code",
   "execution_count": null,
   "metadata": {},
   "outputs": [],
   "source": []
  }
 ],
 "metadata": {
  "kernelspec": {
   "display_name": "Python 3.8.2 64-bit",
   "language": "python",
   "name": "python3"
  },
  "language_info": {
   "codemirror_mode": {
    "name": "ipython",
    "version": 3
   },
   "file_extension": ".py",
   "mimetype": "text/x-python",
   "name": "python",
   "nbconvert_exporter": "python",
   "pygments_lexer": "ipython3",
   "version": "3.8.2"
  },
  "orig_nbformat": 4,
  "vscode": {
   "interpreter": {
    "hash": "61ec11b02c1c60b584ea06bb80567fee03d12d1d43396549bdb7084ea0e850eb"
   }
  }
 },
 "nbformat": 4,
 "nbformat_minor": 2
}
